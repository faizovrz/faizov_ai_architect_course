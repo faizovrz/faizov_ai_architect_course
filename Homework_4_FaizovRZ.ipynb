{
  "nbformat": 4,
  "nbformat_minor": 0,
  "metadata": {
    "colab": {
      "provenance": []
    },
    "kernelspec": {
      "name": "python3",
      "display_name": "Python 3"
    },
    "language_info": {
      "name": "python"
    }
  },
  "cells": [
    {
      "cell_type": "markdown",
      "source": [
        "# **Задача 1**"
      ],
      "metadata": {
        "id": "SuKh8qAeWh-s"
      }
    },
    {
      "cell_type": "markdown",
      "source": [
        "# A+2B"
      ],
      "metadata": {
        "id": "NE_TsdRrXQrH"
      }
    },
    {
      "cell_type": "code",
      "execution_count": null,
      "metadata": {
        "id": "gPgwljOSiE6Y"
      },
      "outputs": [],
      "source": [
        "import numpy as np"
      ]
    },
    {
      "cell_type": "code",
      "source": [
        "A = np.matrix([[1, 2, 1],\n",
        "               [-2, 1, 1]])"
      ],
      "metadata": {
        "id": "iMe8SJL1PbWU"
      },
      "execution_count": null,
      "outputs": []
    },
    {
      "cell_type": "code",
      "source": [
        "B = np.matrix([[3, 1],\n",
        "               [-1, 0],\n",
        "               [2, 4]])"
      ],
      "metadata": {
        "id": "PirqSHQoPhU6"
      },
      "execution_count": null,
      "outputs": []
    },
    {
      "cell_type": "code",
      "source": [
        "A+2*np.transpose(B)"
      ],
      "metadata": {
        "colab": {
          "base_uri": "https://localhost:8080/"
        },
        "id": "tTLOfhP0Wdr4",
        "outputId": "a6a3b767-9fdf-47f4-c928-e542386146ab"
      },
      "execution_count": null,
      "outputs": [
        {
          "output_type": "execute_result",
          "data": {
            "text/plain": [
              "matrix([[7, 0, 5],\n",
              "        [0, 1, 9]])"
            ]
          },
          "metadata": {},
          "execution_count": 7
        }
      ]
    },
    {
      "cell_type": "markdown",
      "source": [
        "# B+2C"
      ],
      "metadata": {
        "id": "ZSBqvnrDXESv"
      }
    },
    {
      "cell_type": "code",
      "source": [
        "C = np.matrix([[-2, 2],\n",
        "              [1, -1],\n",
        "              [1, 2]])"
      ],
      "metadata": {
        "id": "yLmI-By4XMjZ"
      },
      "execution_count": null,
      "outputs": []
    },
    {
      "cell_type": "code",
      "source": [
        "B+2*C"
      ],
      "metadata": {
        "colab": {
          "base_uri": "https://localhost:8080/"
        },
        "id": "4kSJ0K4VYVNH",
        "outputId": "9e850e0e-3ed5-4888-97e1-fbb614fc47c7"
      },
      "execution_count": null,
      "outputs": [
        {
          "output_type": "execute_result",
          "data": {
            "text/plain": [
              "matrix([[-1,  5],\n",
              "        [ 1, -2],\n",
              "        [ 4,  8]])"
            ]
          },
          "metadata": {},
          "execution_count": 9
        }
      ]
    },
    {
      "cell_type": "markdown",
      "source": [
        "# **Задача 2**"
      ],
      "metadata": {
        "id": "zklWB-yeYl43"
      }
    },
    {
      "cell_type": "code",
      "source": [
        "w = np.zeros((8,8),dtype=int)\n",
        "w[1::2,::2] = 1\n",
        "w[::2,1::2] = 1\n",
        "print(w)"
      ],
      "metadata": {
        "colab": {
          "base_uri": "https://localhost:8080/"
        },
        "id": "CKKhMRsNZiqD",
        "outputId": "db5b8361-c3ef-4928-983d-ffc7d7849fe9"
      },
      "execution_count": null,
      "outputs": [
        {
          "output_type": "stream",
          "name": "stdout",
          "text": [
            "[[0 1 0 1 0 1 0 1]\n",
            " [1 0 1 0 1 0 1 0]\n",
            " [0 1 0 1 0 1 0 1]\n",
            " [1 0 1 0 1 0 1 0]\n",
            " [0 1 0 1 0 1 0 1]\n",
            " [1 0 1 0 1 0 1 0]\n",
            " [0 1 0 1 0 1 0 1]\n",
            " [1 0 1 0 1 0 1 0]]\n"
          ]
        }
      ]
    },
    {
      "cell_type": "markdown",
      "source": [
        "Альтернатива"
      ],
      "metadata": {
        "id": "s90aw9m-BUMQ"
      }
    },
    {
      "cell_type": "code",
      "source": [
        "Z = np.tile(np.array([[0,1],[1,0]]), (4,4))\n",
        "print(Z)"
      ],
      "metadata": {
        "colab": {
          "base_uri": "https://localhost:8080/"
        },
        "id": "zlDQF5SNBXaD",
        "outputId": "0eee84db-563d-4a5f-c0df-9791d1ffed03"
      },
      "execution_count": null,
      "outputs": [
        {
          "output_type": "stream",
          "name": "stdout",
          "text": [
            "[[0 1 0 1 0 1 0 1]\n",
            " [1 0 1 0 1 0 1 0]\n",
            " [0 1 0 1 0 1 0 1]\n",
            " [1 0 1 0 1 0 1 0]\n",
            " [0 1 0 1 0 1 0 1]\n",
            " [1 0 1 0 1 0 1 0]\n",
            " [0 1 0 1 0 1 0 1]\n",
            " [1 0 1 0 1 0 1 0]]\n"
          ]
        }
      ]
    },
    {
      "cell_type": "markdown",
      "source": [
        "# **Задача 3**"
      ],
      "metadata": {
        "id": "ctizD6IdgkR_"
      }
    },
    {
      "cell_type": "code",
      "source": [
        "v = np.arange(0, 1.5, 0.1).reshape((5, 3))\n",
        "y = np.arange(1, 7, 1).reshape((3, 2))\n",
        "print (np.dot(v, y))"
      ],
      "metadata": {
        "colab": {
          "base_uri": "https://localhost:8080/"
        },
        "id": "RAxZdALYgqN-",
        "outputId": "585ad7c6-8ab5-4a91-d06c-cb23691345d1"
      },
      "execution_count": null,
      "outputs": [
        {
          "output_type": "stream",
          "name": "stdout",
          "text": [
            "[[ 1.3  1.6]\n",
            " [ 4.   5.2]\n",
            " [ 6.7  8.8]\n",
            " [ 9.4 12.4]\n",
            " [12.1 16. ]]\n"
          ]
        }
      ]
    },
    {
      "cell_type": "markdown",
      "source": [
        "# **Задача 4**"
      ],
      "metadata": {
        "id": "WNtlSsht7h2P"
      }
    },
    {
      "cell_type": "code",
      "source": [
        "p=np.arange(start=1, stop=72, step=2, dtype=np.int32)\n",
        "print ('Исходный вектор:\\n', p)\n",
        "k=np.fromiter((p for p in p if p%3 == 0), dtype = p.dtype)\n",
        "print ('Вектор со значениями, кратные 3:\\n', k)"
      ],
      "metadata": {
        "colab": {
          "base_uri": "https://localhost:8080/"
        },
        "id": "S0uN0k2_7pRl",
        "outputId": "6ffb3bb2-6382-405c-cbc5-1dd0e8878d5f"
      },
      "execution_count": null,
      "outputs": [
        {
          "output_type": "stream",
          "name": "stdout",
          "text": [
            "Исходный вектор:\n",
            " [ 1  3  5  7  9 11 13 15 17 19 21 23 25 27 29 31 33 35 37 39 41 43 45 47\n",
            " 49 51 53 55 57 59 61 63 65 67 69 71]\n",
            "Вектор со значениями, кратные 3:\n",
            " [ 3  9 15 21 27 33 39 45 51 57 63 69]\n"
          ]
        }
      ]
    }
  ]
}